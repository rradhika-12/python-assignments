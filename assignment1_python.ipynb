{
 "cells": [
  {
   "cell_type": "code",
   "execution_count": 69,
   "id": "e13d8b5a-e275-424f-b41b-d3f9d186aa37",
   "metadata": {},
   "outputs": [
    {
     "name": "stdout",
     "output_type": "stream",
     "text": [
      "radhika\n",
      "MCA\n",
      "3.12.4\n"
     ]
    }
   ],
   "source": [
    "#Python script that prints your name, course name, and the Python version.......\n",
    "\n",
    "import platform\n",
    "name=\"radhika\"\n",
    "course_name=\"MCA\"\n",
    "print(name)                              #printing name\n",
    "print(course_name)                       #printing course name\n",
    "print(platform.python_version())         #printing python version"
   ]
  },
  {
   "cell_type": "code",
   "execution_count": 1,
   "id": "8436562b-71a7-4f79-bf71-8d901c25bb4b",
   "metadata": {},
   "outputs": [
    {
     "name": "stdout",
     "output_type": "stream",
     "text": [
      "Hello World!\n"
     ]
    }
   ],
   "source": [
    "print(\"Hello World!\")"
   ]
  },
  {
   "cell_type": "code",
   "execution_count": 29,
   "id": "72f7f10b-4612-4df2-b5f5-ad2f4530dcf7",
   "metadata": {},
   "outputs": [
    {
     "name": "stdin",
     "output_type": "stream",
     "text": [
      "Enter Your First Name\t: radhika\n",
      "Enter Your Last Name\t: verma\n"
     ]
    },
    {
     "name": "stdout",
     "output_type": "stream",
     "text": [
      "akihdar amrev\n"
     ]
    }
   ],
   "source": [
    "#Python program that takes a user’s first and last name as input and prints them in reverse order with a space between them.\n",
    "\n",
    "# user input\n",
    "x=input(\"Enter Your First Name\\t:\")\n",
    "y=input(\"Enter Your Last Name\\t:\")\n",
    "\n",
    "#using reverse string operation and print reversed values\n",
    "print(x[::-1] , y[::-1])"
   ]
  },
  {
   "cell_type": "code",
   "execution_count": 65,
   "id": "ee02b12d-813c-4fc3-86db-b9f9e321660f",
   "metadata": {},
   "outputs": [
    {
     "name": "stdout",
     "output_type": "stream",
     "text": [
      "First Name: radhika, Second Name: verma\n",
      "Radhika\n",
      "Verma\n"
     ]
    }
   ],
   "source": [
    "#Use at least two string methods and explain their purpose in the comments.\n",
    "\n",
    "#printf-style formatting using % operator \n",
    "\n",
    "print(\"First Name: %s, Second Name: %s\" % (x,y))\n",
    "\n",
    "#capitalization formatting using .capitalize function\n",
    "\n",
    "print(x.capitalize())\n",
    "print(y.capitalize())"
   ]
  },
  {
   "cell_type": "code",
   "execution_count": 35,
   "id": "2f2acd0c-78dc-46e8-8069-c6b8b4d8d4fa",
   "metadata": {},
   "outputs": [
    {
     "name": "stdin",
     "output_type": "stream",
     "text": [
      "Enter First Name\t: 100\n"
     ]
    },
    {
     "name": "stdout",
     "output_type": "stream",
     "text": [
      "(100+0j)\n",
      "100.0\n",
      "100\n"
     ]
    }
   ],
   "source": [
    "#Python program that takes an input number from the user, converts it to different numeric data types (integer, float, and complex), and displays the converted values.\n",
    "\n",
    "a = int(input(\"Enter First Name\\t:\"))\n",
    "\n",
    "print(complex(a))\n",
    "print(float(a))\n",
    "print(int(a))\n",
    "\n",
    "\n",
    "# float data type is used when we need use decimal values\n",
    "# complex data type is used when we need to use complex or imaginary number\n",
    "# int data type is used when we need to use normal integer (postive or negative numbers)"
   ]
  },
  {
   "cell_type": "code",
   "execution_count": 37,
   "id": "10a60cea-4b5e-44e2-b226-a008847d0904",
   "metadata": {},
   "outputs": [
    {
     "name": "stdin",
     "output_type": "stream",
     "text": [
      "Enter rectangle's length 22\n",
      "Enter rectangle's breadth 44\n"
     ]
    },
    {
     "name": "stdout",
     "output_type": "stream",
     "text": [
      "968.0\n"
     ]
    }
   ],
   "source": [
    "# taking user input for length and breadth......\n",
    "\n",
    "length=float(input(\"Enter rectangle's length\"))       #inputing length\n",
    "breadth=float(input(\"Enter rectangle's breadth\"))     #inputing breadth\n",
    "area = length*breadth                                 #area formula\n",
    "\n",
    "print(f\"{area}\")                                      #printing area"
   ]
  },
  {
   "cell_type": "code",
   "execution_count": 39,
   "id": "121ceccf-a9f7-4b22-8cbc-4b4e04134760",
   "metadata": {},
   "outputs": [
    {
     "name": "stdout",
     "output_type": "stream",
     "text": [
      "The area of the rectangle is 968.00\n"
     ]
    }
   ],
   "source": [
    "#Modify the rectangle area program to format the output so that it displays the area with two decimal places.\n",
    "\n",
    "print(f\"area of the rectangle is {area:.2f}\")"
   ]
  },
  {
   "cell_type": "code",
   "execution_count": 45,
   "id": "1101fdc8-809b-4966-9bb9-5246a3686e58",
   "metadata": {},
   "outputs": [
    {
     "name": "stdin",
     "output_type": "stream",
     "text": [
      "Enter first number\t:  200\n",
      "Enter second number\t:  400\n",
      "Enter third number\t:  600\n"
     ]
    },
    {
     "name": "stdout",
     "output_type": "stream",
     "text": [
      "The average of three numbers: 400.00\n"
     ]
    }
   ],
   "source": [
    "#Python script that takes three numbers as input and prints their average \n",
    "\n",
    "n1 = float(input(\"Enter first number\\t: \"))\n",
    "n2 = float(input(\"Enter second number\\t: \"))\n",
    "n3 = float(input(\"Enter third number\\t: \"))\n",
    "\n",
    "avg = (n1+n2+n3)/3\n",
    "\n",
    "print(\"The average of three numbers: %.2f\" % avg)"
   ]
  },
  {
   "cell_type": "code",
   "execution_count": 51,
   "id": "c2e278cf-aa1f-4653-937d-3194756423d2",
   "metadata": {},
   "outputs": [
    {
     "name": "stdin",
     "output_type": "stream",
     "text": [
      "Enter the number:  -9\n"
     ]
    },
    {
     "name": "stdout",
     "output_type": "stream",
     "text": [
      "The Number is Negative \n"
     ]
    }
   ],
   "source": [
    "#Python program that asks the user for a number and determines whether it is positive, negative, or zero.\n",
    "\n",
    "n=int(input(\"Enter the number: \"))                         #user input\n",
    "\n",
    "#if else statement to determine number is positive, negative or zero\n",
    "\n",
    "if (n>0):print(\"The Number is Postive \")\n",
    "elif (n<0):print(\"The Number is Negative \")\n",
    "else: print(\"The Number is Zero \")"
   ]
  },
  {
   "cell_type": "code",
   "execution_count": 53,
   "id": "81922aa2-741d-48cb-92e0-ffac542265b3",
   "metadata": {},
   "outputs": [
    {
     "name": "stdin",
     "output_type": "stream",
     "text": [
      "Enter a number or use 'exit' to break the loop:  22\n",
      "Enter a number or use 'exit' to break the loop:  44\n",
      "Enter a number or use 'exit' to break the loop:  66\n",
      "Enter a number or use 'exit' to break the loop:  88\n",
      "Enter a number or use 'exit' to break the loop:  00\n",
      "Enter a number or use 'exit' to break the loop:  exit\n"
     ]
    }
   ],
   "source": [
    "#Implement a loop that continues to ask the user for a number until they enter ‘exit’.\n",
    "#Use break to exit the loop and continue to prompt for a new number if the input is not ‘exit’.\n",
    "while True:  \n",
    "    a = input(\"Enter a number or use 'exit' to break the loop: \")                  #user input\n",
    "#conditional statements to break the loop if \"exit\" is entered else the loop will continue..........\n",
    "    if a==\"exit\":\n",
    "        break        \n",
    "    else:\n",
    "        continue"
   ]
  },
  {
   "cell_type": "code",
   "execution_count": 73,
   "id": "46c1b4de-a4c3-478c-a782-c0224b2f4c7d",
   "metadata": {},
   "outputs": [
    {
     "name": "stdin",
     "output_type": "stream",
     "text": [
      "Enter the 1st number:  54\n",
      "Enter the 2nd number:  75\n"
     ]
    },
    {
     "name": "stdout",
     "output_type": "stream",
     "text": [
      "1st number is even, and 2nd is odd.\n"
     ]
    }
   ],
   "source": [
    "#Python script that takes two numbers as input and prints whether both numbers are even, odd, or one of each using relational and logical operators.\n",
    "\n",
    "n1 = int(input(\"Enter the 1st number: \"))                 #user input for 1st number.\n",
    "n2 = int(input(\"Enter the 2nd number: \"))                #user input for 2nd number.\n",
    "\n",
    "# Checking if both numbers are even\n",
    "if n1%2==0 and n2%2 == 0:     #using modulas and equality to operators to determine numbers as even or odd.....    \n",
    "    print(\"Both numbers are even\")\n",
    "    \n",
    "# Checking if both numbers are odd\n",
    "elif n1 % 2 != 0 and n2 % 2 != 0:    #using modulas and not equal to operator to determine numbers as even or odd...\n",
    "    print(\"Both numbers are odd\")\n",
    "    \n",
    "#checking if one is even and the other is odd\n",
    "else: print(\"1st number is even, and 2nd is odd.\")               "
   ]
  },
  {
   "cell_type": "code",
   "execution_count": 71,
   "id": "03abe923-dbe3-46b9-b9fa-8a8b543b1413",
   "metadata": {},
   "outputs": [
    {
     "name": "stdin",
     "output_type": "stream",
     "text": [
      "Enter an integer:  1200\n"
     ]
    },
    {
     "name": "stdout",
     "output_type": "stream",
     "text": [
      "Binary: 10010110000\n",
      "Octal: 2260\n",
      "Hexadecimal: 4B0\n"
     ]
    }
   ],
   "source": [
    "#Python program that takes in an integer count and prints its binary, octal, and hexadecimal equivalents using a for loop and bitwise operators.\n",
    "\n",
    "number = int(input(\"Enter an integer: \"))                 #user input \n",
    "binary = \"\"                                               #converting to binary\n",
    "n=number\n",
    "while n > 0:\n",
    "    remainder = n % 2\n",
    "    binary = str(remainder) + binary\n",
    "    n = n // 2\n",
    "\n",
    "octal = \"\"                                                #converting to octal\n",
    "n = number\n",
    "while n > 0:\n",
    "    remainder = n % 8\n",
    "    octal = str(remainder) + octal\n",
    "    n = n // 8\n",
    "\n",
    "hexadecimal = \"\"                                        #converting to hexadecimal\n",
    "n = number\n",
    "hexadecimal_digits = \"0123456789ABCDEF\"\n",
    "while n > 0:\n",
    "    remainder = n % 16\n",
    "    hexadecimal = hexadecimal_digits[remainder] + hexadecimal\n",
    "    n = n // 16\n",
    "\n",
    "# Print the results\n",
    "print(f\"Binary: {binary}\")\n",
    "print(f\"Octal: {octal}\")\n",
    "print(f\"Hexadecimal: {hexadecimal}\")"
   ]
  },
  {
   "cell_type": "code",
   "execution_count": null,
   "id": "7ac36c00-6203-49c5-b77f-862e756bc8ff",
   "metadata": {},
   "outputs": [],
   "source": []
  }
 ],
 "metadata": {
  "kernelspec": {
   "display_name": "Python 3 (ipykernel)",
   "language": "python",
   "name": "python3"
  },
  "language_info": {
   "codemirror_mode": {
    "name": "ipython",
    "version": 3
   },
   "file_extension": ".py",
   "mimetype": "text/x-python",
   "name": "python",
   "nbconvert_exporter": "python",
   "pygments_lexer": "ipython3",
   "version": "3.12.4"
  }
 },
 "nbformat": 4,
 "nbformat_minor": 5
}

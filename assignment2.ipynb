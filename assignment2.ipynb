{
 "cells": [
  {
   "cell_type": "code",
   "execution_count": null,
   "id": "970f0571-dd49-4bdc-953b-6bc05701dcae",
   "metadata": {},
   "outputs": [],
   "source": [
    "                               # ASSIGNMENT 2 PYTHON \n",
    "                               # NAME - RADHIKA          SAP ID - 590017292"
   ]
  },
  {
   "cell_type": "code",
   "execution_count": 39,
   "id": "86c4c599-a822-46b7-b552-f4506ddb6ad3",
   "metadata": {},
   "outputs": [
    {
     "name": "stdout",
     "output_type": "stream",
     "text": [
      "Hello. Alice\n",
      "Good Morning.... Bob\n"
     ]
    }
   ],
   "source": [
    "#1 Basic Function Implementation:\n",
    "#Write a function greet that takes two arguments: name (a string) and greeting (a string with a default value of ‘Hello’). \n",
    "#The function should return a greeting message.\n",
    "\n",
    "\n",
    "def greet(name, greeting=\"Hello.\"):           #defining function \n",
    "    return f\"{greeting} {name}\"\n",
    "print(greet(\"Alice\"))                         \n",
    "print(greet(\"Bob\", \"Good Morning....\"))       #printing output\n"
   ]
  },
  {
   "cell_type": "code",
   "execution_count": 37,
   "id": "c7aa8f75-1cb6-4295-9a61-bd5003f6b534",
   "metadata": {},
   "outputs": [
    {
     "name": "stdout",
     "output_type": "stream",
     "text": [
      "Name: Alice, Age: 25, City: New York\n",
      "Name: Bob, Age: 18, City: Los Angeles\n"
     ]
    }
   ],
   "source": [
    "#2 Named Arguments\n",
    "#Create a function create_profile that takes arguments for name, age, and city as named arguments. \n",
    "#The function should return a string like ‘Name: Alice, Age: 25, City: New York’. \n",
    "#Ensure that the age argument has a default value of 18.\n",
    "\n",
    "def create_profile(name, age = 18, city=''):                       #creating function create_profile \n",
    "    return f'Name: {name}, Age: {age}, City: {city}'\n",
    "\n",
    "# Example\n",
    "print(create_profile('Alice', 25, 'New York'))  # printing output\n",
    "print(create_profile('Bob', city='Los Angeles'))  # printing output"
   ]
  },
  {
   "cell_type": "code",
   "execution_count": 43,
   "id": "99502b52-4f75-416d-9c66-68d2ea245f77",
   "metadata": {},
   "outputs": [
    {
     "name": "stdout",
     "output_type": "stream",
     "text": [
      "(6, {})\n",
      "(3, {'x': 4, 'y': 5})\n"
     ]
    }
   ],
   "source": [
    "#3 **Using *args and kwargs:\n",
    "#Write a function sum_numbers that takes any number of positional arguments (*args) and keyword arguments (**kwargs).\n",
    "#The function should return the sum of all *args if they are numbers\n",
    "#it should return a dictionary of all keyword arguments.\n",
    "\n",
    "def sum_numbers(*args, **kwargs):\n",
    "   \n",
    "    total = sum(arg for arg in args if isinstance(arg, (int, float)))         # Sum numeric types\n",
    "    return total, kwargs                                                      # Return total and kwarg\n",
    "# Example\n",
    "print(sum_numbers(1, 2, 3))                            # Output\n",
    "print(sum_numbers(1 ,2 , x = 4, y = 5))                # Output\n",
    "\n"
   ]
  },
  {
   "cell_type": "code",
   "execution_count": 45,
   "id": "cce2c690-3c48-4bc3-95b5-469e73e4975b",
   "metadata": {},
   "outputs": [
    {
     "name": "stdout",
     "output_type": "stream",
     "text": [
      "[1, 4, 9, 16]\n"
     ]
    }
   ],
   "source": [
    "# 4 Lambdas and Map\n",
    "# Write a function that uses map() and a lambda to return a list where each element is squared.\n",
    "\n",
    "\n",
    "def square_list(lst):                                  #function \n",
    "    return list(map(lambda x: x**2, list))\n",
    "print(square_list([1, 2, 3, 4]))                       #printing output \n"
   ]
  },
  {
   "cell_type": "code",
   "execution_count": 51,
   "id": "57a00283-e52c-4f00-97aa-e6322451309b",
   "metadata": {},
   "outputs": [
    {
     "data": {
      "text/plain": [
       "[2, 4]"
      ]
     },
     "execution_count": 51,
     "metadata": {},
     "output_type": "execute_result"
    }
   ],
   "source": [
    "# 5 Filter and Lambdas:\n",
    "#Write a function that filters out all odd numbers from a list using filter and a lambda function.\n",
    "\n",
    "def filter_odd(ls):                                        #define function \n",
    "    return list(filter(lambda x:x % 2 == 0,ls))\n",
    "\n",
    "filter_odd([1, 2, 3, 4, 5])                                # Output: [2, 4]"
   ]
  },
  {
   "cell_type": "code",
   "execution_count": 55,
   "id": "a5fe0a64-a89d-4cbf-b186-33dbd165656a",
   "metadata": {},
   "outputs": [
    {
     "name": "stdin",
     "output_type": "stream",
     "text": [
      "Enter number: 5\n"
     ]
    },
    {
     "name": "stdout",
     "output_type": "stream",
     "text": [
      "[0, 1, 4, 9, 16]\n"
     ]
    }
   ],
   "source": [
    "#6 Basic List Comprehension:\n",
    "#Create a list comprehension that takes a list of numbers and returns a list of their squares.\n",
    "\n",
    "n=int(input(\"Enter number:\"))                     \n",
    "squares = [x**2 for x in range(n)]\n",
    "print(squares)                                    #printing output"
   ]
  },
  {
   "cell_type": "code",
   "execution_count": 59,
   "id": "04d01c58-3d66-4c0b-96e5-cac95ce62a69",
   "metadata": {},
   "outputs": [
    {
     "name": "stdout",
     "output_type": "stream",
     "text": [
      "[2, 4, 6, 8, 10, 12, 14, 16, 18, 20]\n"
     ]
    }
   ],
   "source": [
    "#7 | List Comprehension with Condition:\n",
    "# Use a list comprehension to create a list of even numbers from 1 to 20.\n",
    "\n",
    "Even=[x for x in range(1, 21) if x % 2 == 0]  \n",
    "print(Even)"
   ]
  },
  {
   "cell_type": "code",
   "execution_count": 61,
   "id": "bd541ada-85f9-4d53-adfb-e36fde985482",
   "metadata": {},
   "outputs": [
    {
     "name": "stdout",
     "output_type": "stream",
     "text": [
      "Directory 'test_folder' created.\n",
      "Directory 'test_folder' deleted.\n"
     ]
    }
   ],
   "source": [
    "# 8 Using os and time modules \n",
    "# Write a function file_operations that creates a directory named \"test_folder\" using os.makedirs(). \n",
    "#Then, pause the execution for 3 seconds using time.sleep(), and finally, delete the directory using os.rmdir().**\n",
    "\n",
    "import os\n",
    "import time\n",
    "\n",
    "def file_operations():\n",
    "    # Step 1: Create a directory named \"test_folder\"\n",
    "    folder_name = \"test_folder\"\n",
    "    \n",
    "    try:\n",
    "        os.makedirs(folder_name, exist_ok=True)\n",
    "        print(f\"Directory '{folder_name}' created.\")\n",
    "    except Exception as e:\n",
    "        print(f\"Error creating directory: {e}\")\n",
    "    \n",
    "    # Step 2: Pause execution for 3 seconds\n",
    "    time.sleep(3)\n",
    "    \n",
    "    # Step 3: Remove the directory\n",
    "    try:\n",
    "        os.rmdir(folder_name)\n",
    "        print(f\"Directory '{folder_name}' deleted.\")\n",
    "    except Exception as e:\n",
    "        print(f\"Error deleting directory: {e}\")\n",
    "\n",
    "# Example usage:\n",
    "if __name__ == \"__main__\":\n",
    "    file_operations()\n"
   ]
  },
  {
   "cell_type": "code",
   "execution_count": 63,
   "id": "cfe633b5-f275-4e93-bfb0-bdbb3b21b931",
   "metadata": {},
   "outputs": [
    {
     "name": "stdout",
     "output_type": "stream",
     "text": [
      "Paused execution...\n"
     ]
    }
   ],
   "source": [
    "# 9 Write a Python script that imports only sleep from the time module and renames it to pause. \n",
    "#Use it to pause execution for 2 seconds and print \"Paused execution...\".**\n",
    "                             # Importing sleep from time, renaming it to pause\n",
    "\n",
    "from time import sleep as pause\n",
    "pause(2)              # Pause execution for 2 seconds\n",
    "# Print a message after the pause\n",
    "print(\"Paused execution...\")\n"
   ]
  },
  {
   "cell_type": "code",
   "execution_count": 67,
   "id": "56d6d750-092c-4fba-a1fd-582906f32eed",
   "metadata": {},
   "outputs": [
    {
     "name": "stdout",
     "output_type": "stream",
     "text": [
      "[1, 2, 3, 4, 5, 6]\n",
      "[1, 2, 3, 4, 5]\n"
     ]
    }
   ],
   "source": [
    "# 10 Recursive Function with *args and **kwargs\n",
    "# write a recursive function named flatten_list that can flatten a nested list of any depth using *args and **kwargs.\n",
    "\n",
    "def flatten_list(nested_list, *args, **kwargs):\n",
    "    flat_list = []\n",
    "\n",
    "    for item in nested_list:                           # Loop through each item in nested list....\n",
    "        if isinstance(item, list):                       # recursively flatten, if the item is a list\n",
    "            flat_list.extend(flatten_list(item))\n",
    "        else:\n",
    "            flat_list.append(item)                          # else add it to the flat list, if the item is not a list\n",
    "    return flat_list\n",
    "\n",
    "# Example\n",
    "print(flatten_list([1, [2, 3], [[4, 5], 6]]))              # Output\n",
    "print(flatten_list([[1, 2], [3, [4, [5]]]]))               # Output\n"
   ]
  }
 ],
 "metadata": {
  "kernelspec": {
   "display_name": "Python 3 (ipykernel)",
   "language": "python",
   "name": "python3"
  },
  "language_info": {
   "codemirror_mode": {
    "name": "ipython",
    "version": 3
   },
   "file_extension": ".py",
   "mimetype": "text/x-python",
   "name": "python",
   "nbconvert_exporter": "python",
   "pygments_lexer": "ipython3",
   "version": "3.12.4"
  }
 },
 "nbformat": 4,
 "nbformat_minor": 5
}
